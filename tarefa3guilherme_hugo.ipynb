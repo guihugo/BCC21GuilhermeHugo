{
  "nbformat": 4,
  "nbformat_minor": 0,
  "metadata": {
    "colab": {
      "provenance": [],
      "collapsed_sections": [],
      "authorship_tag": "ABX9TyOryaubzEkxw4BqaaBcLl6p",
      "include_colab_link": true
    },
    "kernelspec": {
      "name": "python3",
      "display_name": "Python 3"
    },
    "language_info": {
      "name": "python"
    }
  },
  "cells": [
    {
      "cell_type": "markdown",
      "metadata": {
        "id": "view-in-github",
        "colab_type": "text"
      },
      "source": [
        "<a href=\"https://colab.research.google.com/github/guihugo/ufabc-bcc/blob/main/tarefa3guilherme_hugo.ipynb\" target=\"_parent\"><img src=\"https://colab.research.google.com/assets/colab-badge.svg\" alt=\"Open In Colab\"/></a>"
      ]
    },
    {
      "cell_type": "markdown",
      "source": [
        "# Guilherme Hugo de Araujo Silva RA 11202230757"
      ],
      "metadata": {
        "id": "usgr2_7nHU9N"
      }
    },
    {
      "cell_type": "code",
      "execution_count": 1,
      "metadata": {
        "colab": {
          "base_uri": "https://localhost:8080/"
        },
        "id": "RU71iz7MFeSi",
        "outputId": "1d39c6d8-8db7-4938-bb5e-856b08279260"
      },
      "outputs": [
        {
          "output_type": "stream",
          "name": "stdout",
          "text": [
            "Segundo = 5400.0\n",
            "Segundo = 43200\n",
            "Segundo = 86400\n"
          ]
        }
      ],
      "source": [
        "# Guilherme Hugo de Araujo Silva RA 11202230757\n",
        "\n",
        "#É declarado a hora (h1), o S1 calcula quantas segundos tem em uma hora multiplicando 60 por 60 e após ele multiplica pelo o valor declarado em h1.\n",
        "#Após o calculo é utilizado o print para escrever \"Segundo = \" junto com o resultado das multiplicações. \n",
        "\n",
        "h1 = 1.5; #hora 1\n",
        "S1= 60*60*h1; #multiplicação\n",
        "\n",
        "print (\"Segundo =\",S1); \n",
        "\n",
        "h2 = 12; #hora 2\n",
        "s2= 60*60*h2; #multiplicação\n",
        "\n",
        "print(\"Segundo =\",s2)\n",
        "\n",
        "h3 = 24; #hora 3\n",
        "s3 = 60*60*h3; #multiplicação\n",
        "\n",
        "print(\"Segundo =\",s3);"
      ]
    },
    {
      "cell_type": "code",
      "source": [],
      "metadata": {
        "id": "qIv-nFFbHB34"
      },
      "execution_count": null,
      "outputs": []
    }
  ]
}