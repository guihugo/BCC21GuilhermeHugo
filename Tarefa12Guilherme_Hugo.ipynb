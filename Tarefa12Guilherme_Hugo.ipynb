{
  "nbformat": 4,
  "nbformat_minor": 0,
  "metadata": {
    "colab": {
      "provenance": [],
      "collapsed_sections": [],
      "authorship_tag": "ABX9TyMMIbbJFnP4ADxQc5uHBGbX",
      "include_colab_link": true
    },
    "kernelspec": {
      "name": "python3",
      "display_name": "Python 3"
    },
    "language_info": {
      "name": "python"
    }
  },
  "cells": [
    {
      "cell_type": "markdown",
      "metadata": {
        "id": "view-in-github",
        "colab_type": "text"
      },
      "source": [
        "<a href=\"https://colab.research.google.com/github/guihugo/BCC21GuilhermeHugo/blob/main/Tarefa12Guilherme_Hugo.ipynb\" target=\"_parent\"><img src=\"https://colab.research.google.com/assets/colab-badge.svg\" alt=\"Open In Colab\"/></a>"
      ]
    },
    {
      "cell_type": "markdown",
      "source": [
        "##Guilherme Hugo de Araujo Silva RA 11202230757\n",
        "\n"
      ],
      "metadata": {
        "id": "DooC-Y8uq4Yk"
      }
    },
    {
      "cell_type": "code",
      "source": [
        "import pandas as pd\n",
        "import numpy as np\n",
        "\n",
        "jogos = pd.read_csv('https://raw.githubusercontent.com/BMClab/BasesComputacionais/master/dados/tabelaBrasileirao2018.csv')\n",
        "\n",
        "media = jogos.groupby('Estádio')['Renda (R$)'].mean() ##agrupa as colunas e cálcula a média\n",
        "\n",
        "print ('A média de renda por estádio é de\\n', media)"
      ],
      "metadata": {
        "colab": {
          "base_uri": "https://localhost:8080/"
        },
        "id": "uvfNQNPdjdAY",
        "outputId": "e724e952-1533-48c3-e387-8f649573fc71"
      },
      "execution_count": 4,
      "outputs": [
        {
          "output_type": "stream",
          "name": "stdout",
          "text": [
            "A média de renda por estádio é de\n",
            " Estádio\n",
            "Allianz Parque, São Paulo                 2.184977e+06\n",
            "Arena Condá, Chapecó                      2.561482e+05\n",
            "Arena Corinthians, São Paulo              1.335615e+06\n",
            "Arena Fonte Nova, Salvador                3.916003e+05\n",
            "Arena Pernambuco, São Lourenço da Mata    5.939100e+05\n",
            "Arena da Baixada, Curitiba                2.660111e+05\n",
            "Arena do Grêmio, Porto Alegre             7.605969e+05\n",
            "Estádio Barradão, Salvador                9.639837e+04\n",
            "Estádio Beira-Rio, Porto Alegre           8.500737e+05\n",
            "Estádio Castelão, Fortaleza               6.231027e+05\n",
            "Estádio Engenhão, Rio de Janeiro          1.670227e+05\n",
            "Estádio Ilha do Retiro, Recife            1.826286e+05\n",
            "Estádio Indepedência, Belo Horizonte      1.131445e+05\n",
            "Estádio Independência, Belo Horizonte     1.854703e+05\n",
            "Estádio Mineirão, Belo Horizonte          3.253155e+05\n",
            "Estádio Nacional, Brasília                2.614730e+06\n",
            "Estádio Presidente Vargas, Fortaleza      1.030408e+05\n",
            "Estádio São Januário, Rio de Janeiro      2.422784e+05\n",
            "Estádio Vila Belmiro, Santos              1.646681e+05\n",
            "Estádio Vila Capanema, Curitiba           1.534964e+05\n",
            "Estádio de Pituaçu, Salvador              2.974750e+05\n",
            "Estádio do Café, Londrina                 1.953570e+06\n",
            "Estádio do Maracanã, Rio de Janeiro       8.491581e+05\n",
            "Estádio do Morumbi, São Paulo             1.188519e+06\n",
            "Estádio do Pacaembu, São Paulo            7.092811e+05\n",
            "Name: Renda (R$), dtype: float64\n"
          ]
        }
      ]
    },
    {
      "cell_type": "code",
      "source": [
        "import pandas as pd\n",
        "\n",
        "\n",
        "data = pd.read_csv('https://raw.githubusercontent.com/BMClab/BasesComputacionais/master/dados/netflix.csv')\n",
        "data['Categoria'] = 'Filme'  \n",
        "data['Categoria'][data['Title'].str.contains(\": Temporada|: Stranger|: Parte\")] = 'Série'  \n",
        "data['Programa'] = data['Title']  \n",
        "data[['Programa','Episódio']] = data[data['Categoria']=='Série']['Title'].str.split(pat = ': Temporada|: Stranger Things|: Parte', expand = True, n = 1)   \n",
        "data.loc[data['Categoria']=='Filme', 'Programa'] = data.loc[data['Categoria']=='Filme', 'Title']  \n",
        "data = data.drop(columns = 'Title')\n",
        "mv = data['Programa'].value_counts() ##calcula a quantidade de vezes assisitidas\n",
        "print ('Os programas mais vistos foram:\\n',mv.head(10)); ##Printa e limita em 10 a resposta dos filmes"
      ],
      "metadata": {
        "colab": {
          "base_uri": "https://localhost:8080/"
        },
        "id": "rECwKn8rSjok",
        "outputId": "bad7af43-8eff-4d58-b534-0554935854d5"
      },
      "execution_count": 34,
      "outputs": [
        {
          "output_type": "stream",
          "name": "stdout",
          "text": [
            "Os programas mais vistos foram:\n",
            " House of Cards                           73\n",
            "Jornada nas Estrelas: A nova geração     64\n",
            "Star Trek: Enterprise                    63\n",
            "Jornada nas Estrelas: Deep Space Nine    46\n",
            "Star Trek: Discovery                     42\n",
            "Jornada nas estrelas                     34\n",
            "The Crown                                32\n",
            "Cobra Kai                                30\n",
            "Aggretsuko                               28\n",
            "Downton Abbey                            25\n",
            "Name: Programa, dtype: int64\n"
          ]
        }
      ]
    },
    {
      "cell_type": "code",
      "source": [
        "import pandas as pd ##Importa para utilizar banco de dados\n",
        "import matplotlib.pyplot as plt ##Importa a biblioteca mathplot para o grafico\n",
        "import numpy as np ##Importa a biblioteca para cálculos matemáticos\n",
        "\n",
        "inflacao = pd.read_csv('https://raw.githubusercontent.com/BMClab/BasesComputacionais/master/dados/inflacaoMensal.csv') ##Importa o banco de dados\n",
        "ano = pd.date_range(\"2/1/1944\", \"6/1/2019\", periods=905) ##Define o periodo do eixo X\n",
        "\n",
        "plt.figure(figsize=(8,8)) ##Aumenta o tamanho do gráfico\n",
        "plt.title(\"Inflação (%)\") ##Título do gráfico\n",
        "plt.plot(ano,inflacao['Inflação']) ##Pega os dados para montar o gráfico\n",
        "plt.xlabel(\"Anos\")\n",
        "plt.ylabel(\"Inflação mensal no Brasil\")\n",
        "plt.show()\n"
      ],
      "metadata": {
        "colab": {
          "base_uri": "https://localhost:8080/",
          "height": 513
        },
        "id": "24WqXNEaewV2",
        "outputId": "194f77cb-8ca0-4bca-f30d-c421873911a4"
      },
      "execution_count": 35,
      "outputs": [
        {
          "output_type": "display_data",
          "data": {
            "text/plain": [
              "<Figure size 576x576 with 1 Axes>"
            ],
            "image/png": "[encoded data removed]"
          },
          "metadata": {
            "needs_background": "light"
          }
        }
      ]
    },
    {
      "cell_type": "code",
      "execution_count": 36,
      "metadata": {
        "colab": {
          "base_uri": "https://localhost:8080/"
        },
        "id": "fdRiHzCentf0",
        "outputId": "f09d6118-71f7-4d69-ce36-13ba52d58897"
      },
      "outputs": [
        {
          "output_type": "stream",
          "name": "stdout",
          "text": [
            "Em 53.16% dos jogos o time da casa venceu.\n",
            "Em 17.89% dos jogos o time visitante venceu.\n"
          ]
        }
      ],
      "source": [
        "import pandas as pd ##Importa para utilizar banco de dados\n",
        "import matplotlib.pyplot as plt ##Importa a biblioteca mathplot para o grafico\n",
        "\n",
        "jogo = pd.read_csv('https://raw.githubusercontent.com/BMClab/BasesComputacionais/master/dados/tabelaBrasileirao2018.csv')\n",
        "\n",
        "win = 0 ##define jogos ganhos = 0\n",
        "\n",
        "loss = 0 ##define jogos perdidos = 0\n",
        "\n",
        "for indice,linha in jogo.iterrows():\n",
        "  if int(linha[\"Placar do Mandante\"]) > int(linha[\"Placar do Visitante\"]): ##compara as linhas\n",
        "    win +=1; ##se o placar do mandante for maior que o do visitante adiciona 1\n",
        "\n",
        "porcentagem = win / 380 *100; ##calcula a porcentagem\n",
        "\n",
        "print (f\"Em {porcentagem:.2f}% dos jogos o time da casa venceu.\");\n",
        "\n",
        "for indice,linha in jogo.iterrows():\n",
        "  if int(linha[\"Placar do Visitante\"]) > int(linha[\"Placar do Mandante\"]):\n",
        "    loss +=1;\n",
        "\n",
        "game = loss / 380 *100;\n",
        "\n",
        "print (f\"Em {game:.2f}% dos jogos o time visitante venceu.\");\n"
      ]
    }
  ]
}