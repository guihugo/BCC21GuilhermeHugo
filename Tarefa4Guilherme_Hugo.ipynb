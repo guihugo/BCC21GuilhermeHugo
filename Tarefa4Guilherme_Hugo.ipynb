{
  "nbformat": 4,
  "nbformat_minor": 0,
  "metadata": {
    "colab": {
      "provenance": [],
      "authorship_tag": "ABX9TyNyQCuFyJRRUDXJ1UjFA/T8",
      "include_colab_link": true
    },
    "kernelspec": {
      "name": "python3",
      "display_name": "Python 3"
    },
    "language_info": {
      "name": "python"
    }
  },
  "cells": [
    {
      "cell_type": "markdown",
      "metadata": {
        "id": "view-in-github",
        "colab_type": "text"
      },
      "source": [
        "<a href=\"https://colab.research.google.com/github/guihugo/ufabc-bcc/blob/main/Tarefa4Guilherme_Hugo.ipynb\" target=\"_parent\"><img src=\"https://colab.research.google.com/assets/colab-badge.svg\" alt=\"Open In Colab\"/></a>"
      ]
    },
    {
      "cell_type": "markdown",
      "source": [
        "# Guilherme Hugo de Araujo Silva RA 11202230757\n"
      ],
      "metadata": {
        "id": "vq8DHQROnPKc"
      }
    },
    {
      "cell_type": "code",
      "source": [
        "# Guilherme Hugo de Araujo Silva RA 11202230757\n",
        "##Este código calcula os números da série de Fibonacci. A variante \"i\" é igual ao\n",
        "##número da série que será calculado. Após a declaração da variante \"i\" é\n",
        "##calculado na variante f o número.\n",
        "\n",
        "import math\n",
        "\n",
        "i1 = 30; ##i-ésimo termo\n",
        "\n",
        "f = ((1+math.sqrt(5))**i1-(1-math.sqrt(5))**i1)/(2**i1*math.sqrt(5)); ##Formúla\n",
        "\n",
        "print(f\"O número da serie é igual a: {f:.2f}\");\n",
        "\n",
        "i2 = 31;\n",
        "\n",
        "f = ((1+math.sqrt(5))**i2-(1-math.sqrt(5))**i2)/(2**i2*math.sqrt(5));\n",
        "\n",
        "print(f\"O número da serie é igual a: {f:.2f}\");\n",
        "\n",
        "i3 = 32;\n",
        "\n",
        "f = ((1+math.sqrt(5))**i3-(1-math.sqrt(5))**i3)/(2**i3*math.sqrt(5));\n",
        "\n",
        "print(f\"O número da serie é igual a: {f:.2f}\");"
      ],
      "metadata": {
        "colab": {
          "base_uri": "https://localhost:8080/"
        },
        "id": "R1UpTJcbEzyU",
        "outputId": "413f5552-0b74-409c-ce1d-a4968b924740"
      },
      "execution_count": 8,
      "outputs": [
        {
          "output_type": "stream",
          "name": "stdout",
          "text": [
            "O número da serie é igual a: 832040.00\n",
            "O número da serie é igual a: 1346269.00\n",
            "O número da serie é igual a: 2178309.00\n"
          ]
        }
      ]
    },
    {
      "cell_type": "code",
      "source": [
        "# Guilherme Hugo de Araujo Silva RA 11202230757\n",
        "##Este código utiliza a fórmula da lei dos cossenos para calcular o lado  c \n",
        "##de um triângulo as variáveis \"a1\" e \"b1\" são os valores do lado \"a\" e \"b\",\n",
        "##respectivamente, a variável \"ang\", calcula o cosseno do ângulo do triangulo\n",
        "##a variável \"c\" é a formula da lei dos cossenos.\n",
        "\n",
        "import math\n",
        "\n",
        "a1 = 1; ##lado a\n",
        "b1 = 2; ##lado b\n",
        "ang1 =math.cos (math.pi/6); ##cosseno do angulo em radiano\n",
        "c = math.sqrt(a1**2+b1**2-2*a1*b1*ang1);\n",
        "\n",
        "print(f'O tamanho do lado c é igual a {c:.3f}'); \n",
        "\n",
        "a2 = 3;\n",
        "b2 = 1;\n",
        "ang2 =math.cos (math.pi/4);\n",
        "c = math.sqrt(a2**2+b2**2-2*a2*b2*ang2);\n",
        "\n",
        "print(f'O tamanho do lado c é igual a {c:.3f}');\n",
        "\n",
        "a3 = 10;\n",
        "b3 = 11;\n",
        "ang3 =math.cos (math.pi/12);\n",
        "c = math.sqrt(a3**2+b3**2-2*a3*b3*ang3);\n",
        "\n",
        "print(f'O tamanho do lado c é igual a {c:.3f}');"
      ],
      "metadata": {
        "colab": {
          "base_uri": "https://localhost:8080/"
        },
        "id": "FGQMswBSd4bY",
        "outputId": "a1a445ed-4c87-414a-97a5-52847a6a285c"
      },
      "execution_count": null,
      "outputs": [
        {
          "output_type": "stream",
          "name": "stdout",
          "text": [
            "O tamanho do lado c é igual a 1.239\n",
            "O tamanho do lado c é igual a 2.399\n",
            "O tamanho do lado c é igual a 2.915\n"
          ]
        }
      ]
    },
    {
      "cell_type": "code",
      "source": [
        "# Guilherme Hugo de Araujo Silva RA 11202230757\n",
        "\n",
        "##este código realiza a conversão de graus Fahreint para graus Celsius\n",
        "##a variável c1, pega o valor em graus, e a variavel T, executa a fórmula\n",
        "##para a conversão\n",
        "\n",
        "\n",
        "c1 = -10 ##Graus Fahreint\n",
        "\n",
        "T = (9*c1/5)+32 ##Fórmula\n",
        "\n",
        "print(f\"A temperatura é equivalente a {T} °C\");\n",
        "\n",
        "c2 = 30\n",
        "\n",
        "T = (9*c2/5)+32\n",
        "\n",
        "print(f\"A temperatura é equivalente a {T} °C\");\n",
        "\n",
        "c3 = 5\n",
        "\n",
        "T = (9*c3/5)+32\n",
        "\n",
        "print(f\"A temperatura é equivalente a {T} °C\");"
      ],
      "metadata": {
        "colab": {
          "base_uri": "https://localhost:8080/"
        },
        "id": "52T8gt5Haer7",
        "outputId": "767ab972-dfcb-4369-e0e5-96f77c83bd33"
      },
      "execution_count": null,
      "outputs": [
        {
          "output_type": "stream",
          "name": "stdout",
          "text": [
            "A temperatura é equivalente a 14.0 °C\n",
            "A temperatura é equivalente a 86.0 °C\n",
            "A temperatura é equivalente a 41.0 °C\n"
          ]
        }
      ]
    },
    {
      "cell_type": "code",
      "execution_count": null,
      "metadata": {
        "colab": {
          "base_uri": "https://localhost:8080/"
        },
        "id": "eAFJWH0CnIL9",
        "outputId": "7c6fc47b-9520-4bbf-e6d3-12ec87e0c80d"
      },
      "outputs": [
        {
          "output_type": "stream",
          "name": "stdout",
          "text": [
            "O valor do primeiro volume é igual a 0.137 m\n",
            "O valor do segundo volume é igual a 4.189 m\n",
            "O valor do terceiro volume é igual a 28.731 m\n"
          ]
        }
      ],
      "source": [
        "\n",
        "# Guilherme Hugo de Araujo Silva RA 11202230757\n",
        "\n",
        "##Este codigo calcula os volumes de umas esfera de acordo com seu raio.\n",
        "\n",
        "import math\n",
        "\n",
        "exp=3; ##expoente\n",
        "r1= 0.32; ##raio\n",
        "v = (4/3*math.pi*r1**exp); ##Fórmula do volume de uma esfera.\n",
        "\n",
        "\n",
        "print(f'O valor do primeiro volume é igual a {v:.3f} m');\n",
        "\n",
        "exp=3; ##expoente\n",
        "r2= 1; ##raio\n",
        "v = (4/3*math.pi*r2**exp);\n",
        "\n",
        "print(f'O valor do segundo volume é igual a {v:.3f} m');\n",
        "\n",
        "exp=3; ##expoente\n",
        "r3= 1.9; ##raio\n",
        "v = (4/3*math.pi*r3**exp);\n",
        "\n",
        "print(f'O valor do terceiro volume é igual a {v:.3f} m');\n",
        "\n",
        "\n"
      ]
    }
  ]
}