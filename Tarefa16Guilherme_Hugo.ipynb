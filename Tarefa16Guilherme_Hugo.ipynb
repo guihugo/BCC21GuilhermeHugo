{
  "nbformat": 4,
  "nbformat_minor": 0,
  "metadata": {
    "colab": {
      "provenance": [],
      "authorship_tag": "ABX9TyOARgRcqizfAgpo7mIIUYIm",
      "include_colab_link": true
    },
    "kernelspec": {
      "name": "python3",
      "display_name": "Python 3"
    },
    "language_info": {
      "name": "python"
    }
  },
  "cells": [
    {
      "cell_type": "markdown",
      "metadata": {
        "id": "view-in-github",
        "colab_type": "text"
      },
      "source": [
        "<a href=\"https://colab.research.google.com/github/guihugo/BCC21GuilhermeHugo/blob/main/Tarefa16Guilherme_Hugo.ipynb\" target=\"_parent\"><img src=\"https://colab.research.google.com/assets/colab-badge.svg\" alt=\"Open In Colab\"/></a>"
      ]
    },
    {
      "cell_type": "markdown",
      "source": [
        "# **GUILHERME HUGO DE ARAUJO SILVA RA 11202230757**"
      ],
      "metadata": {
        "id": "fchaNV-vDook"
      }
    },
    {
      "cell_type": "code",
      "execution_count": 8,
      "metadata": {
        "id": "6JomO2AhQiHH",
        "colab": {
          "base_uri": "https://localhost:8080/"
        },
        "outputId": "35aa26ab-c145-4067-af55-5bf8c8c2da6d"
      },
      "outputs": [
        {
          "output_type": "stream",
          "name": "stdout",
          "text": [
            "x 9.1 não está entre o intervalo de [-2.5;6.3]\n",
            "False\n",
            "x 2.2 está entre o intervalo de [-10;7]\n",
            "True\n",
            "x 8.1 não está entre o intervalo de [67.2;87.2]\n",
            "False\n"
          ]
        }
      ],
      "source": [
        "import numpy as np\n",
        "def estaNoIntervalo ( a, b , x ): ##define a função que recebe os valores, a, b e x para testar\n",
        "  result = x > a and x < b ##testa se x é maior que a e menor que b (está entre)\n",
        "  if result == True :\n",
        "    print (f'x {x} está entre o intervalo de [{a};{b}]') ##Exibe o resultado\n",
        "  else: \n",
        "    print (f'x {x} não está entre o intervalo de [{a};{b}]') ##Exibe o resultado\n",
        "  print (result)\n",
        "  return result \n",
        "a = [ -2.5 , -10 , 67.2 ] ##Array com valores para testes\n",
        "b = [ 6.3 , 7 , 87.2 ]\n",
        "x = [ 9.1 , 2.2 , 8.1 ] \n",
        "for item in range (0,3): ##Loop para o Array\n",
        "  estaNoIntervalo ( a[item] , b[item] , x[item] ) \n",
        "\n"
      ]
    }
  ]
}