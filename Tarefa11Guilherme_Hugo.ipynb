{
  "nbformat": 4,
  "nbformat_minor": 0,
  "metadata": {
    "colab": {
      "provenance": [],
      "authorship_tag": "ABX9TyMI9+yPaiXVnqgntG9YTlDR",
      "include_colab_link": true
    },
    "kernelspec": {
      "name": "python3",
      "display_name": "Python 3"
    },
    "language_info": {
      "name": "python"
    }
  },
  "cells": [
    {
      "cell_type": "markdown",
      "metadata": {
        "id": "view-in-github",
        "colab_type": "text"
      },
      "source": [
        "<a href=\"https://colab.research.google.com/github/guihugo/BCC21GuilhermeHugo/blob/main/Tarefa11Guilherme_Hugo.ipynb\" target=\"_parent\"><img src=\"https://colab.research.google.com/assets/colab-badge.svg\" alt=\"Open In Colab\"/></a>"
      ]
    },
    {
      "cell_type": "markdown",
      "source": [
        "**Guilherme Hugo de Araujo Silva RA 11202230757**"
      ],
      "metadata": {
        "id": "KGCHmvFNywcS"
      }
    },
    {
      "cell_type": "code",
      "execution_count": 17,
      "metadata": {
        "colab": {
          "base_uri": "https://localhost:8080/"
        },
        "id": "cJc8gFDXicXj",
        "outputId": "3bb2df46-aaaf-4118-9dc7-c196ff3c678a"
      },
      "outputs": [
        {
          "output_type": "stream",
          "name": "stdout",
          "text": [
            " O valor de pi para o termo 50 é igual a 3.121594652591011\n",
            " O valor de pi para o termo 500 é igual a 3.139774473274237\n",
            " O valor de pi para o termo 1000 é igual a 3.1409474923666045\n",
            " O valor de pi para o termo 10000 é igual a 3.141506073503367\n"
          ]
        }
      ],
      "source": [
        "import numpy as np\n",
        "\n",
        "n = [50, 500, 1000, 10000] ##Define a quantidade de termos\n",
        "k = 1 ##Define o primeiro divisor da formula\n",
        "s = 0 #Valor do pi\n",
        "  \n",
        "for item in n: ##loop para os termos\n",
        "  for i in range(0,item): ##realiza o calculo\n",
        "    \n",
        "    if i % 2 == 0:  ##confere se o i é par ou impar\n",
        "        s +=4/k  ##Realiza a conta positiva\n",
        "    else: \n",
        "        s -=4/k  ##realiza a conta negativa\n",
        "  \n",
        "    \n",
        "    k += 2\n",
        "      \n",
        "  print(f\" O valor de pi para o termo {item} é igual a {s}\");"
      ]
    }
  ]
}