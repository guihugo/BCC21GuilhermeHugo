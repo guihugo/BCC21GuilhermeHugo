{
  "nbformat": 4,
  "nbformat_minor": 0,
  "metadata": {
    "colab": {
      "provenance": [],
      "authorship_tag": "ABX9TyPN5qpRsWwHLSHX3OJ2V0tI",
      "include_colab_link": true
    },
    "kernelspec": {
      "name": "python3",
      "display_name": "Python 3"
    },
    "language_info": {
      "name": "python"
    }
  },
  "cells": [
    {
      "cell_type": "markdown",
      "metadata": {
        "id": "view-in-github",
        "colab_type": "text"
      },
      "source": [
        "<a href=\"https://colab.research.google.com/github/guihugo/BCC21GuilhermeHugo/blob/main/Tarefa7Guilherme_Hugo.ipynb\" target=\"_parent\"><img src=\"https://colab.research.google.com/assets/colab-badge.svg\" alt=\"Open In Colab\"/></a>"
      ]
    },
    {
      "cell_type": "markdown",
      "source": [
        "#Guilherme Hugo de Araujo Silva RA 11202230757\n"
      ],
      "metadata": {
        "id": "h3qkJ2B1Du1g"
      }
    },
    {
      "cell_type": "code",
      "execution_count": 14,
      "metadata": {
        "colab": {
          "base_uri": "https://localhost:8080/"
        },
        "id": "7VJUDIDL-q8j",
        "outputId": "d70c4bad-a8b7-43a8-f76c-0a6d51ff5e8a"
      },
      "outputs": [
        {
          "output_type": "stream",
          "name": "stdout",
          "text": [
            "O número é Ímpar.\n",
            "O número é Par.\n",
            "O número é Par.\n",
            "O número é Ímpar.\n"
          ]
        }
      ],
      "source": [
        "##Guilherme Hugo de Araujo Silva RA 11202230757\n",
        "\n",
        "##Este notebook mostra se um número inteiro é par ou ímpar.\n",
        "\n",
        "x = [1, 24, 10, 5]; ##Array com os valores a serem testados\n",
        "\n",
        "for f in x: ##loop o array\n",
        "  if (f%2) == 0: ##Divide o número por dois e confere se sobrou resto.\n",
        "        print(\"O número é Par.\") ##Se não sobrou resto aparece o texto dizendo\n",
        "                                  ##Que é par.\n",
        "  else:\n",
        "        print(\"O número é Ímpar.\") ##Se sobrar resto, aparece que é ímpar.\n"
      ]
    }
  ]
}