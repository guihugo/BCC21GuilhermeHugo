{
  "nbformat": 4,
  "nbformat_minor": 0,
  "metadata": {
    "colab": {
      "provenance": [],
      "authorship_tag": "ABX9TyO62eQT5hIKrAfxY15xeRzy",
      "include_colab_link": true
    },
    "kernelspec": {
      "name": "python3",
      "display_name": "Python 3"
    },
    "language_info": {
      "name": "python"
    }
  },
  "cells": [
    {
      "cell_type": "markdown",
      "metadata": {
        "id": "view-in-github",
        "colab_type": "text"
      },
      "source": [
        "<a href=\"https://colab.research.google.com/github/guihugo/BCC21GuilhermeHugo/blob/main/Tarefa13Guilherme_Hugo.ipynb\" target=\"_parent\"><img src=\"https://colab.research.google.com/assets/colab-badge.svg\" alt=\"Open In Colab\"/></a>"
      ]
    },
    {
      "cell_type": "markdown",
      "source": [
        "#**Guilherme Hugo RA 11202230757**"
      ],
      "metadata": {
        "id": "7Fk-WNslFiBn"
      }
    },
    {
      "cell_type": "code",
      "execution_count": 10,
      "metadata": {
        "id": "txmlYdMZ4LOG",
        "colab": {
          "base_uri": "https://localhost:8080/",
          "height": 568
        },
        "outputId": "937c0b1c-3373-4b7e-a9c3-f113e926fcb6"
      },
      "outputs": [
        {
          "output_type": "display_data",
          "data": {
            "text/plain": [
              "<Figure size 576x648 with 1 Axes>"
            ],
            "image/png": "[encoded data removed]"
          },
          "metadata": {
            "needs_background": "light"
          }
        },
        {
          "output_type": "stream",
          "name": "stdout",
          "text": [
            "O público médio dos jogos do Corinthians foi de 31367.421 pessoas\n"
          ]
        }
      ],
      "source": [
        "import pandas as pd\n",
        "import matplotlib.pyplot as plt\n",
        "import numpy as np\n",
        "\n",
        "jogos = pd.read_csv('https://raw.githubusercontent.com/BMClab/BasesComputacionais/master/dados/tabelaBrasileirao2018.csv')\n",
        "\n",
        "plt.figure(figsize=(8,9))\n",
        "plt.hist([jogos.query(\"Mandante == 'Corinthians'\")['Público']])\n",
        "plt.xlabel('Público')\n",
        "plt.grid()\n",
        "plt.show()\n",
        "\n",
        "media = jogos.query(\"Mandante == 'Corinthians'\")['Público'].mean();\n",
        "\n",
        "print(f'O público médio dos jogos do Corinthians foi de {media:.3f} pessoas');"
      ]
    }
  ]
}